{
 "cells": [
  {
   "cell_type": "code",
   "execution_count": null,
   "metadata": {
    "vscode": {
     "languageId": "shellscript"
    }
   },
   "outputs": [],
   "source": [
    "pip install pennylane pennylane-catalyst custatevec_cu12 pennylane-lightning-gpu jupyter"
   ]
  },
  {
   "cell_type": "code",
   "execution_count": 6,
   "metadata": {},
   "outputs": [
    {
     "name": "stderr",
     "output_type": "stream",
     "text": [
      "/c/dev/quantum/venv/lib/python3.12/site-packages/catalyst/__init__.py:30: UserWarning: Catalyst detected a version mismatch for the installed 'jaxlib' package. Please make sure to install the exact version required by Catalyst to avoid undefined behaviour.\n",
      "Expected: 0.4.28 Found: 0.5.1\n",
      "  warnings.warn(\n"
     ]
    },
    {
     "ename": "ImportError",
     "evalue": "cannot import name 'shaped_abstractify' from 'jax._src.api_util' (/c/dev/quantum/venv/lib/python3.12/site-packages/jax/_src/api_util.py)",
     "output_type": "error",
     "traceback": [
      "\u001b[31m---------------------------------------------------------------------------\u001b[39m",
      "\u001b[31mImportError\u001b[39m                               Traceback (most recent call last)",
      "\u001b[36mCell\u001b[39m\u001b[36m \u001b[39m\u001b[32mIn[6]\u001b[39m\u001b[32m, line 14\u001b[39m\n\u001b[32m     10\u001b[39m key = jax.random.PRNGKey(\u001b[32m0\u001b[39m)\n\u001b[32m     12\u001b[39m dev = qml.device(\u001b[33m\"\u001b[39m\u001b[33mlightning.gpu\u001b[39m\u001b[33m\"\u001b[39m, wires=num_wires)\n\u001b[32m---> \u001b[39m\u001b[32m14\u001b[39m \u001b[38;5;129m@qml\u001b[39m\u001b[43m.\u001b[49m\u001b[43mqjit\u001b[49m\u001b[43m(\u001b[49m\u001b[43mautograph\u001b[49m\u001b[43m=\u001b[49m\u001b[38;5;28;43;01mTrue\u001b[39;49;00m\u001b[43m)\u001b[49m\n\u001b[32m     15\u001b[39m \u001b[38;5;129m@qml\u001b[39m.qnode(dev)\n\u001b[32m     16\u001b[39m \u001b[38;5;28;01mdef\u001b[39;00m\u001b[38;5;250m \u001b[39m\u001b[34mcircuit\u001b[39m(params):\n\u001b[32m     17\u001b[39m \n\u001b[32m     18\u001b[39m     \u001b[38;5;66;03m# Apply layers of RZ and RY rotations\u001b[39;00m\n\u001b[32m     19\u001b[39m     \u001b[38;5;28;01mfor\u001b[39;00m i \u001b[38;5;129;01min\u001b[39;00m \u001b[38;5;28mrange\u001b[39m(num_wires):\n\u001b[32m     20\u001b[39m         qml.RZ(params[\u001b[32m3\u001b[39m*i], wires=[i])\n",
      "\u001b[36mFile \u001b[39m\u001b[32m/c/dev/quantum/venv/lib/python3.12/site-packages/pennylane/compiler/qjit_api.py:307\u001b[39m, in \u001b[36mqjit\u001b[39m\u001b[34m(fn, compiler, *args, **kwargs)\u001b[39m\n\u001b[32m    304\u001b[39m _check_compiler_version(compiler)\n\u001b[32m    306\u001b[39m compilers = AvailableCompilers.names_entrypoints\n\u001b[32m--> \u001b[39m\u001b[32m307\u001b[39m qjit_loader = \u001b[43mcompilers\u001b[49m\u001b[43m[\u001b[49m\u001b[43mcompiler\u001b[49m\u001b[43m]\u001b[49m\u001b[43m[\u001b[49m\u001b[33;43m\"\u001b[39;49m\u001b[33;43mqjit\u001b[39;49m\u001b[33;43m\"\u001b[39;49m\u001b[43m]\u001b[49m\u001b[43m.\u001b[49m\u001b[43mload\u001b[49m\u001b[43m(\u001b[49m\u001b[43m)\u001b[49m\n\u001b[32m    308\u001b[39m \u001b[38;5;28;01mreturn\u001b[39;00m qjit_loader(fn=fn, *args, **kwargs)\n",
      "\u001b[36mFile \u001b[39m\u001b[32m/usr/lib/python3.12/importlib/metadata/__init__.py:205\u001b[39m, in \u001b[36mEntryPoint.load\u001b[39m\u001b[34m(self)\u001b[39m\n\u001b[32m    200\u001b[39m \u001b[38;5;250m\u001b[39m\u001b[33;03m\"\"\"Load the entry point from its definition. If only a module\u001b[39;00m\n\u001b[32m    201\u001b[39m \u001b[33;03mis indicated by the value, return that module. Otherwise,\u001b[39;00m\n\u001b[32m    202\u001b[39m \u001b[33;03mreturn the named object.\u001b[39;00m\n\u001b[32m    203\u001b[39m \u001b[33;03m\"\"\"\u001b[39;00m\n\u001b[32m    204\u001b[39m match = \u001b[38;5;28mself\u001b[39m.pattern.match(\u001b[38;5;28mself\u001b[39m.value)\n\u001b[32m--> \u001b[39m\u001b[32m205\u001b[39m module = \u001b[43mimport_module\u001b[49m\u001b[43m(\u001b[49m\u001b[43mmatch\u001b[49m\u001b[43m.\u001b[49m\u001b[43mgroup\u001b[49m\u001b[43m(\u001b[49m\u001b[33;43m'\u001b[39;49m\u001b[33;43mmodule\u001b[39;49m\u001b[33;43m'\u001b[39;49m\u001b[43m)\u001b[49m\u001b[43m)\u001b[49m\n\u001b[32m    206\u001b[39m attrs = \u001b[38;5;28mfilter\u001b[39m(\u001b[38;5;28;01mNone\u001b[39;00m, (match.group(\u001b[33m'\u001b[39m\u001b[33mattr\u001b[39m\u001b[33m'\u001b[39m) \u001b[38;5;129;01mor\u001b[39;00m \u001b[33m'\u001b[39m\u001b[33m'\u001b[39m).split(\u001b[33m'\u001b[39m\u001b[33m.\u001b[39m\u001b[33m'\u001b[39m))\n\u001b[32m    207\u001b[39m \u001b[38;5;28;01mreturn\u001b[39;00m functools.reduce(\u001b[38;5;28mgetattr\u001b[39m, attrs, module)\n",
      "\u001b[36mFile \u001b[39m\u001b[32m/usr/lib/python3.12/importlib/__init__.py:90\u001b[39m, in \u001b[36mimport_module\u001b[39m\u001b[34m(name, package)\u001b[39m\n\u001b[32m     88\u001b[39m             \u001b[38;5;28;01mbreak\u001b[39;00m\n\u001b[32m     89\u001b[39m         level += \u001b[32m1\u001b[39m\n\u001b[32m---> \u001b[39m\u001b[32m90\u001b[39m \u001b[38;5;28;01mreturn\u001b[39;00m \u001b[43m_bootstrap\u001b[49m\u001b[43m.\u001b[49m\u001b[43m_gcd_import\u001b[49m\u001b[43m(\u001b[49m\u001b[43mname\u001b[49m\u001b[43m[\u001b[49m\u001b[43mlevel\u001b[49m\u001b[43m:\u001b[49m\u001b[43m]\u001b[49m\u001b[43m,\u001b[49m\u001b[43m \u001b[49m\u001b[43mpackage\u001b[49m\u001b[43m,\u001b[49m\u001b[43m \u001b[49m\u001b[43mlevel\u001b[49m\u001b[43m)\u001b[49m\n",
      "\u001b[36mFile \u001b[39m\u001b[32m<frozen importlib._bootstrap>:1387\u001b[39m, in \u001b[36m_gcd_import\u001b[39m\u001b[34m(name, package, level)\u001b[39m\n",
      "\u001b[36mFile \u001b[39m\u001b[32m<frozen importlib._bootstrap>:1360\u001b[39m, in \u001b[36m_find_and_load\u001b[39m\u001b[34m(name, import_)\u001b[39m\n",
      "\u001b[36mFile \u001b[39m\u001b[32m<frozen importlib._bootstrap>:1331\u001b[39m, in \u001b[36m_find_and_load_unlocked\u001b[39m\u001b[34m(name, import_)\u001b[39m\n",
      "\u001b[36mFile \u001b[39m\u001b[32m<frozen importlib._bootstrap>:935\u001b[39m, in \u001b[36m_load_unlocked\u001b[39m\u001b[34m(spec)\u001b[39m\n",
      "\u001b[36mFile \u001b[39m\u001b[32m<frozen importlib._bootstrap_external>:995\u001b[39m, in \u001b[36mexec_module\u001b[39m\u001b[34m(self, module)\u001b[39m\n",
      "\u001b[36mFile \u001b[39m\u001b[32m<frozen importlib._bootstrap>:488\u001b[39m, in \u001b[36m_call_with_frames_removed\u001b[39m\u001b[34m(f, *args, **kwds)\u001b[39m\n",
      "\u001b[36mFile \u001b[39m\u001b[32m/c/dev/quantum/venv/lib/python3.12/site-packages/catalyst/__init__.py:84\u001b[39m\n\u001b[32m     77\u001b[39m sys.modules[\u001b[33m\"\u001b[39m\u001b[33mmlir_quantum._mlir_libs._quantumDialects.catalyst\u001b[39m\u001b[33m\"\u001b[39m] = types.ModuleType(\n\u001b[32m     78\u001b[39m     \u001b[33m\"\u001b[39m\u001b[33mmlir_quantum._mlir_libs._quantumDialects.catalyst\u001b[39m\u001b[33m\"\u001b[39m\n\u001b[32m     79\u001b[39m )\n\u001b[32m     80\u001b[39m sys.modules[\u001b[33m\"\u001b[39m\u001b[33mmlir_quantum._mlir_libs._quantumDialects.mitigation\u001b[39m\u001b[33m\"\u001b[39m] = types.ModuleType(\n\u001b[32m     81\u001b[39m     \u001b[33m\"\u001b[39m\u001b[33mmlir_quantum._mlir_libs._quantumDialects.mitigation\u001b[39m\u001b[33m\"\u001b[39m\n\u001b[32m     82\u001b[39m )\n\u001b[32m---> \u001b[39m\u001b[32m84\u001b[39m \u001b[38;5;28;01mfrom\u001b[39;00m\u001b[38;5;250m \u001b[39m\u001b[34;01mcatalyst\u001b[39;00m\u001b[38;5;250m \u001b[39m\u001b[38;5;28;01mimport\u001b[39;00m debug, logging, passes\n\u001b[32m     85\u001b[39m \u001b[38;5;28;01mfrom\u001b[39;00m\u001b[38;5;250m \u001b[39m\u001b[34;01mcatalyst\u001b[39;00m\u001b[34;01m.\u001b[39;00m\u001b[34;01mapi_extensions\u001b[39;00m\u001b[38;5;250m \u001b[39m\u001b[38;5;28;01mimport\u001b[39;00m *\n\u001b[32m     86\u001b[39m \u001b[38;5;28;01mfrom\u001b[39;00m\u001b[38;5;250m \u001b[39m\u001b[34;01mcatalyst\u001b[39;00m\u001b[34;01m.\u001b[39;00m\u001b[34;01mapi_extensions\u001b[39;00m\u001b[38;5;250m \u001b[39m\u001b[38;5;28;01mimport\u001b[39;00m __all__ \u001b[38;5;28;01mas\u001b[39;00m _api_extension_list\n",
      "\u001b[36mFile \u001b[39m\u001b[32m/c/dev/quantum/venv/lib/python3.12/site-packages/catalyst/debug/__init__.py:17\u001b[39m\n\u001b[32m      1\u001b[39m \u001b[38;5;66;03m# Copyright 2024 Xanadu Quantum Technologies Inc.\u001b[39;00m\n\u001b[32m      2\u001b[39m \n\u001b[32m      3\u001b[39m \u001b[38;5;66;03m# Licensed under the Apache License, Version 2.0 (the \"License\");\u001b[39;00m\n\u001b[32m   (...)\u001b[39m\u001b[32m     12\u001b[39m \u001b[38;5;66;03m# See the License for the specific language governing permissions and\u001b[39;00m\n\u001b[32m     13\u001b[39m \u001b[38;5;66;03m# limitations under the License.\u001b[39;00m\n\u001b[32m     15\u001b[39m \u001b[33;03m\"\"\"Catalyst's debug module contains functions useful for user program debugging.\"\"\"\u001b[39;00m\n\u001b[32m---> \u001b[39m\u001b[32m17\u001b[39m \u001b[38;5;28;01mfrom\u001b[39;00m\u001b[38;5;250m \u001b[39m\u001b[34;01mcatalyst\u001b[39;00m\u001b[34;01m.\u001b[39;00m\u001b[34;01mdebug\u001b[39;00m\u001b[34;01m.\u001b[39;00m\u001b[34;01mcallback\u001b[39;00m\u001b[38;5;250m \u001b[39m\u001b[38;5;28;01mimport\u001b[39;00m callback\n\u001b[32m     18\u001b[39m \u001b[38;5;28;01mfrom\u001b[39;00m\u001b[38;5;250m \u001b[39m\u001b[34;01mcatalyst\u001b[39;00m\u001b[34;01m.\u001b[39;00m\u001b[34;01mdebug\u001b[39;00m\u001b[34;01m.\u001b[39;00m\u001b[34;01mcompiler_functions\u001b[39;00m\u001b[38;5;250m \u001b[39m\u001b[38;5;28;01mimport\u001b[39;00m (\n\u001b[32m     19\u001b[39m     compile_executable,\n\u001b[32m     20\u001b[39m     get_cmain,\n\u001b[32m   (...)\u001b[39m\u001b[32m     23\u001b[39m     replace_ir,\n\u001b[32m     24\u001b[39m )\n\u001b[32m     25\u001b[39m \u001b[38;5;28;01mfrom\u001b[39;00m\u001b[38;5;250m \u001b[39m\u001b[34;01mcatalyst\u001b[39;00m\u001b[34;01m.\u001b[39;00m\u001b[34;01mdebug\u001b[39;00m\u001b[34;01m.\u001b[39;00m\u001b[34;01minstruments\u001b[39;00m\u001b[38;5;250m \u001b[39m\u001b[38;5;28;01mimport\u001b[39;00m instrumentation\n",
      "\u001b[36mFile \u001b[39m\u001b[32m/c/dev/quantum/venv/lib/python3.12/site-packages/catalyst/debug/callback.py:16\u001b[39m\n\u001b[32m      1\u001b[39m \u001b[38;5;66;03m# Copyright 2023-2024 Xanadu Quantum Technologies Inc.\u001b[39;00m\n\u001b[32m      2\u001b[39m \n\u001b[32m      3\u001b[39m \u001b[38;5;66;03m# Licensed under the Apache License, Version 2.0 (the \"License\");\u001b[39;00m\n\u001b[32m   (...)\u001b[39m\u001b[32m     12\u001b[39m \u001b[38;5;66;03m# See the License for the specific language governing permissions and\u001b[39;00m\n\u001b[32m     13\u001b[39m \u001b[38;5;66;03m# limitations under the License.\u001b[39;00m\n\u001b[32m     15\u001b[39m \u001b[33;03m\"\"\"This module enables runtime Python callbacks with no return values.\"\"\"\u001b[39;00m\n\u001b[32m---> \u001b[39m\u001b[32m16\u001b[39m \u001b[38;5;28;01mfrom\u001b[39;00m\u001b[38;5;250m \u001b[39m\u001b[34;01mcatalyst\u001b[39;00m\u001b[34;01m.\u001b[39;00m\u001b[34;01mapi_extensions\u001b[39;00m\u001b[34;01m.\u001b[39;00m\u001b[34;01mcallbacks\u001b[39;00m\u001b[38;5;250m \u001b[39m\u001b[38;5;28;01mimport\u001b[39;00m base_callback\n\u001b[32m     19\u001b[39m \u001b[38;5;28;01mdef\u001b[39;00m\u001b[38;5;250m \u001b[39m\u001b[34mcallback\u001b[39m(callback_fn):\n\u001b[32m     20\u001b[39m \u001b[38;5;250m    \u001b[39m\u001b[33;03m\"\"\"Execute a Python\u001b[39;00m\n\u001b[32m     21\u001b[39m \u001b[33;03m    function with no return value and potential side effects from within a qjit-compiled function.\u001b[39;00m\n\u001b[32m     22\u001b[39m \n\u001b[32m   (...)\u001b[39m\u001b[32m     81\u001b[39m \u001b[33;03m    during the forward pass.\u001b[39;00m\n\u001b[32m     82\u001b[39m \u001b[33;03m    \"\"\"\u001b[39;00m\n",
      "\u001b[36mFile \u001b[39m\u001b[32m/c/dev/quantum/venv/lib/python3.12/site-packages/catalyst/api_extensions/__init__.py:19\u001b[39m\n\u001b[32m      1\u001b[39m \u001b[38;5;66;03m# Copyright 2024 Xanadu Quantum Technologies Inc.\u001b[39;00m\n\u001b[32m      2\u001b[39m \n\u001b[32m      3\u001b[39m \u001b[38;5;66;03m# Licensed under the Apache License, Version 2.0 (the \"License\");\u001b[39;00m\n\u001b[32m   (...)\u001b[39m\u001b[32m     12\u001b[39m \u001b[38;5;66;03m# See the License for the specific language governing permissions and\u001b[39;00m\n\u001b[32m     13\u001b[39m \u001b[38;5;66;03m# limitations under the License.\u001b[39;00m\n\u001b[32m     15\u001b[39m \u001b[33;03m\"\"\"\u001b[39;00m\n\u001b[32m     16\u001b[39m \u001b[33;03mThis module is a collection of public API extensions for programming with Catalyst frontends.\u001b[39;00m\n\u001b[32m     17\u001b[39m \u001b[33;03m\"\"\"\u001b[39;00m\n\u001b[32m---> \u001b[39m\u001b[32m19\u001b[39m \u001b[38;5;28;01mfrom\u001b[39;00m\u001b[38;5;250m \u001b[39m\u001b[34;01mcatalyst\u001b[39;00m\u001b[34;01m.\u001b[39;00m\u001b[34;01mapi_extensions\u001b[39;00m\u001b[34;01m.\u001b[39;00m\u001b[34;01mcallbacks\u001b[39;00m\u001b[38;5;250m \u001b[39m\u001b[38;5;28;01mimport\u001b[39;00m accelerate, pure_callback\n\u001b[32m     20\u001b[39m \u001b[38;5;28;01mfrom\u001b[39;00m\u001b[38;5;250m \u001b[39m\u001b[34;01mcatalyst\u001b[39;00m\u001b[34;01m.\u001b[39;00m\u001b[34;01mapi_extensions\u001b[39;00m\u001b[34;01m.\u001b[39;00m\u001b[34;01mcontrol_flow\u001b[39;00m\u001b[38;5;250m \u001b[39m\u001b[38;5;28;01mimport\u001b[39;00m (\n\u001b[32m     21\u001b[39m     Cond,\n\u001b[32m     22\u001b[39m     ForLoop,\n\u001b[32m   (...)\u001b[39m\u001b[32m     26\u001b[39m     while_loop,\n\u001b[32m     27\u001b[39m )\n\u001b[32m     28\u001b[39m \u001b[38;5;28;01mfrom\u001b[39;00m\u001b[38;5;250m \u001b[39m\u001b[34;01mcatalyst\u001b[39;00m\u001b[34;01m.\u001b[39;00m\u001b[34;01mapi_extensions\u001b[39;00m\u001b[34;01m.\u001b[39;00m\u001b[34;01mdifferentiation\u001b[39;00m\u001b[38;5;250m \u001b[39m\u001b[38;5;28;01mimport\u001b[39;00m (\n\u001b[32m     29\u001b[39m     grad,\n\u001b[32m     30\u001b[39m     jacobian,\n\u001b[32m   (...)\u001b[39m\u001b[32m     33\u001b[39m     vjp,\n\u001b[32m     34\u001b[39m )\n",
      "\u001b[36mFile \u001b[39m\u001b[32m/c/dev/quantum/venv/lib/python3.12/site-packages/catalyst/api_extensions/callbacks.py:30\u001b[39m\n\u001b[32m     28\u001b[39m \u001b[38;5;28;01mimport\u001b[39;00m\u001b[38;5;250m \u001b[39m\u001b[34;01mjax\u001b[39;00m\n\u001b[32m     29\u001b[39m \u001b[38;5;28;01mimport\u001b[39;00m\u001b[38;5;250m \u001b[39m\u001b[34;01mjax\u001b[39;00m\u001b[34;01m.\u001b[39;00m\u001b[34;01mnumpy\u001b[39;00m\u001b[38;5;250m \u001b[39m\u001b[38;5;28;01mas\u001b[39;00m\u001b[38;5;250m \u001b[39m\u001b[34;01mjnp\u001b[39;00m\n\u001b[32m---> \u001b[39m\u001b[32m30\u001b[39m \u001b[38;5;28;01mfrom\u001b[39;00m\u001b[38;5;250m \u001b[39m\u001b[34;01mjax\u001b[39;00m\u001b[34;01m.\u001b[39;00m\u001b[34;01m_src\u001b[39;00m\u001b[34;01m.\u001b[39;00m\u001b[34;01mapi_util\u001b[39;00m\u001b[38;5;250m \u001b[39m\u001b[38;5;28;01mimport\u001b[39;00m shaped_abstractify\n\u001b[32m     31\u001b[39m \u001b[38;5;28;01mfrom\u001b[39;00m\u001b[38;5;250m \u001b[39m\u001b[34;01mjax\u001b[39;00m\u001b[34;01m.\u001b[39;00m\u001b[34;01m_src\u001b[39;00m\u001b[34;01m.\u001b[39;00m\u001b[34;01mtree_util\u001b[39;00m\u001b[38;5;250m \u001b[39m\u001b[38;5;28;01mimport\u001b[39;00m (\n\u001b[32m     32\u001b[39m     Partial,\n\u001b[32m     33\u001b[39m     tree_flatten,\n\u001b[32m   (...)\u001b[39m\u001b[32m     36\u001b[39m     tree_unflatten,\n\u001b[32m     37\u001b[39m )\n\u001b[32m     39\u001b[39m \u001b[38;5;28;01mfrom\u001b[39;00m\u001b[38;5;250m \u001b[39m\u001b[34;01mcatalyst\u001b[39;00m\u001b[34;01m.\u001b[39;00m\u001b[34;01mjax_extras\u001b[39;00m\u001b[38;5;250m \u001b[39m\u001b[38;5;28;01mimport\u001b[39;00m transient_jax_config\n",
      "\u001b[31mImportError\u001b[39m: cannot import name 'shaped_abstractify' from 'jax._src.api_util' (/c/dev/quantum/venv/lib/python3.12/site-packages/jax/_src/api_util.py)"
     ]
    }
   ],
   "source": [
    "import pennylane as qml\n",
    "import jax.numpy as jnp\n",
    "\n",
    "import jax\n",
    "\n",
    "# Set number of wires\n",
    "num_wires = 28\n",
    "\n",
    "# Set a random seed\n",
    "key = jax.random.PRNGKey(0)\n",
    "\n",
    "dev = qml.device(\"lightning.gpu\", wires=num_wires)\n",
    "\n",
    "@qml.qjit(autograph=True)\n",
    "@qml.qnode(dev)\n",
    "def circuit(params):\n",
    "\n",
    "    # Apply layers of RZ and RY rotations\n",
    "    for i in range(num_wires):\n",
    "        qml.RZ(params[3*i], wires=[i])\n",
    "        qml.RY(params[3*i+1], wires=[i])\n",
    "        qml.RZ(params[3*i+2], wires=[i])\n",
    "\n",
    "    return qml.expval(qml.PauliZ(0) + qml.PauliZ(num_wires-1))\n",
    "\n",
    "# Initialize the weights\n",
    "weights = jax.random.uniform(key, shape=(3 * num_wires,), dtype=jnp.float32)\n",
    "\n",
    "circuit(weights)"
   ]
  }
 ],
 "metadata": {
  "kernelspec": {
   "display_name": "venv",
   "language": "python",
   "name": "python3"
  },
  "language_info": {
   "codemirror_mode": {
    "name": "ipython",
    "version": 3
   },
   "file_extension": ".py",
   "mimetype": "text/x-python",
   "name": "python",
   "nbconvert_exporter": "python",
   "pygments_lexer": "ipython3",
   "version": "3.12.3"
  }
 },
 "nbformat": 4,
 "nbformat_minor": 2
}
